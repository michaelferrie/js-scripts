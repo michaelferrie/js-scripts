{
 "cells": [
  {
   "cell_type": "markdown",
   "id": "cae5199e-2ebe-46a2-8231-25da17dee82b",
   "metadata": {},
   "source": [
    "# Node.js Programming - Getting started\n",
    "<div class=\"alert alert-block alert-info\"> \n",
    "    Notebook 1: by michael.ferrie@edinburghcollege.ac.uk <br> Edinburgh College, May 2022\n",
    "</div>"
   ]
  },
  {
   "cell_type": "markdown",
   "id": "215f363a-244e-4ec6-be79-41c58d09e1bc",
   "metadata": {},
   "source": [
    "#### So what's node.js then?\n",
    "\n",
    "[Node.js](https://nodejs.org/en/) is an open-source, cross-platform JavaScript runtime environment used for executing JavaScript code outside of a web browser. Node.js is a popular, lightweight web framework for beginners, and it is used by many big companies like Netflix and Uber. This intro was adapted from [here](https://www.educative.io/blog/what-is-nodejs) if you want to read the long version.\n",
    "\n",
    "#### Getting started\n",
    "\n",
    "First thing to do is download the LTS installer for your operating system from here: [https://nodejs.org/en/download/](https://nodejs.org/en/download/)\n",
    "\n",
    "#### Install the kernel\n",
    "\n",
    "The next thing we need to do is install a kernel so that jupyter-lab can talk to node.js in the cmd shell run:\n",
    "\n",
    "``` python\n",
    "\n",
    "pip3 install --upgrade pip\n",
    "npm install -g ijavascript\n",
    "ijsinstall\n",
    "\n",
    "```\n",
    "\n",
    "If you get an error on the pip command try this:\n",
    "`python -m pip install --upgrade pip`\n",
    "\n",
    "Launch jupyterlab and you should have access to the node.js kernel now.\n",
    "\n",
    "Set this notebook to the JavaScript (Node.js) kernel.\n",
    "\n",
    "#### Let's do some coding\n",
    "\n",
    "The first module we need to know for this course is the `console` module. The console has methods that are available for us to use for debugging purposes. We can write one-line comments with: ` // ` we have to end each line with a ;\n",
    "\n",
    "`console.log()`: Frequently used to log some sort of output.\n",
    "`console.warn()`: Explicitly delivers a warning to the console.\n",
    "`console.error()`: Explicitly delivers an error message to the console.\n",
    "\n",
    "Try it out:"
   ]
  },
  {
   "cell_type": "code",
   "execution_count": 1,
   "id": "55cb77d7-f287-489d-a64f-6c7165259b85",
   "metadata": {},
   "outputs": [
    {
     "name": "stdout",
     "output_type": "stream",
     "text": [
      "Hello World\n"
     ]
    },
    {
     "name": "stderr",
     "output_type": "stream",
     "text": [
      "Save the World\n",
      "Save the Planet\n"
     ]
    }
   ],
   "source": [
    "// console module\n",
    "console.log(\"Hello World\");\n",
    "\n",
    "// console module\n",
    "console.warn(\"Save the World\");\n",
    "\n",
    "// console module\n",
    "console.error(\"Save the Planet\");"
   ]
  },
  {
   "cell_type": "markdown",
   "id": "f1b4cef2-60fd-4ac9-a9e8-3d3b1417c449",
   "metadata": {},
   "source": [
    "#### File system tasks\n",
    "\n",
    "We can use the file system module `fs` to work with files on the system. The primitive `const` allows us to define a variable that cannot be changed. To use `fs` we need to import it and define its name:\n",
    "\n",
    "In jupyter-lab press CTRL+B to open the file manager and right click over this, choose create a new file, call the file `test.txt`\n",
    "\n",
    "Double click on the file and then add this text into it on line 1:\n",
    "\n",
    "` Hello there from the test file.`"
   ]
  },
  {
   "cell_type": "code",
   "execution_count": 2,
   "id": "553aad6e-13eb-4a57-8be4-e64594e00a94",
   "metadata": {
    "tags": []
   },
   "outputs": [
    {
     "name": "stdout",
     "output_type": "stream",
     "text": [
      "Printing file:  <Buffer 48 65 6c 6c 6f 20 74 68 65 72 65 20 66 72 6f 6d 20 74 68 65 20 74 65 73 74 20 66 69 6c 65 2e>\n"
     ]
    }
   ],
   "source": [
    "// import fs \n",
    "// const fs = require('fs') // comment this line out after we run it once\n",
    "\n",
    "// Printing the current file name before copying\n",
    "console.log(\"Printing file: \", fs.readFileSync(\"test.txt\"));"
   ]
  },
  {
   "cell_type": "markdown",
   "id": "02942687-b85a-44bb-9449-99e950ecd9d5",
   "metadata": {},
   "source": [
    "If you see a lot of hex, this is the file in raw form, we need to add `utf8` to tell it read the file out."
   ]
  },
  {
   "cell_type": "code",
   "execution_count": 3,
   "id": "33d01336-c6db-4ffb-8133-a570c807b63b",
   "metadata": {},
   "outputs": [
    {
     "name": "stdout",
     "output_type": "stream",
     "text": [
      "Printing file:  Hello there from the test file.\n"
     ]
    }
   ],
   "source": [
    "// Printing the current file name before copying\n",
    "console.log(\"Printing file: \", fs.readFileSync(\"test.txt\", \"utf8\"));"
   ]
  },
  {
   "cell_type": "markdown",
   "id": "671c6f1c-0f46-44a1-a209-7d2862281e68",
   "metadata": {},
   "source": [
    "How to copy a file `fs.copyfile (src, dest, mode)` we need to add on a function in case the file doesn't exist.\n"
   ]
  },
  {
   "cell_type": "code",
   "execution_count": 4,
   "id": "89d5e7f2-80b2-4f83-885e-667d7a62937e",
   "metadata": {
    "tags": []
   },
   "outputs": [],
   "source": [
    "// Copying sample_file.txt to a different name\n",
    "fs.copyFile(\"test.txt\", \"test2.txt\", function (err)\n",
    "            { \n",
    "    if (err) throw err;\n",
    "});"
   ]
  }
 ],
 "metadata": {
  "kernelspec": {
   "display_name": "JavaScript (Node.js)",
   "language": "javascript",
   "name": "javascript"
  },
  "language_info": {
   "file_extension": ".js",
   "mimetype": "application/javascript",
   "name": "javascript",
   "version": "12.22.5"
  }
 },
 "nbformat": 4,
 "nbformat_minor": 5
}
